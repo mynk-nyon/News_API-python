{
 "cells": [
  {
   "cell_type": "code",
   "execution_count": 1,
   "id": "fa9f6a33-1cec-4818-980c-74514ced871b",
   "metadata": {},
   "outputs": [
    {
     "name": "stdout",
     "output_type": "stream",
     "text": [
      "Welcome to the News App\n",
      "\n",
      "1. Signup\n",
      "2. Login\n",
      "3. Forgot Password\n",
      "4. Exit\n"
     ]
    },
    {
     "name": "stdin",
     "output_type": "stream",
     "text": [
      "Choose an option:  akash@gmail.com\n"
     ]
    },
    {
     "name": "stdout",
     "output_type": "stream",
     "text": [
      "Invalid option. Please try again.\n",
      "\n",
      "1. Signup\n",
      "2. Login\n",
      "3. Forgot Password\n",
      "4. Exit\n"
     ]
    },
    {
     "name": "stdin",
     "output_type": "stream",
     "text": [
      "Choose an option:  1\n",
      "Enter your email:  akash@gmail.com\n",
      "Enter your password (min 8 chars, 1 special char):  Akash@123\n",
      "What is your favorite color (for password recovery)?:  red\n"
     ]
    },
    {
     "name": "stdout",
     "output_type": "stream",
     "text": [
      "Signup successful! Please login.\n",
      "\n",
      "1. Signup\n",
      "2. Login\n",
      "3. Forgot Password\n",
      "4. Exit\n"
     ]
    },
    {
     "name": "stdin",
     "output_type": "stream",
     "text": [
      "Choose an option:  2\n",
      "Enter your email:  akash@gmail.com\n",
      "Enter your password:  Akash@123\n"
     ]
    },
    {
     "name": "stdout",
     "output_type": "stream",
     "text": [
      "Login successful!\n"
     ]
    },
    {
     "name": "stdin",
     "output_type": "stream",
     "text": [
      "Enter a keyword to search for news:  mobile\n"
     ]
    },
    {
     "name": "stdout",
     "output_type": "stream",
     "text": [
      "Top 5 news articles for 'mobile':\n",
      "1. [Removed] (Source: [Removed])\n",
      "2. [Removed] (Source: [Removed])\n",
      "3. Would You Vote From Your Phone? (Source: Wired)\n",
      "4. Verizon confirms a network outage is affecting mobile customers across the US (Source: Yahoo Entertainment)\n",
      "5. Destiny: Rising is Bungie’s new mobile game published by NetEase Games (Source: Yahoo Entertainment)\n",
      "\n",
      "1. Signup\n",
      "2. Login\n",
      "3. Forgot Password\n",
      "4. Exit\n"
     ]
    },
    {
     "name": "stdin",
     "output_type": "stream",
     "text": [
      "Choose an option:  4\n"
     ]
    },
    {
     "name": "stdout",
     "output_type": "stream",
     "text": [
      "Goodbye!\n"
     ]
    }
   ],
   "source": [
    "import csv\n",
    "import re\n",
    "import hashlib\n",
    "import requests\n",
    "\n",
    "\n",
    "NEWS_API_KEY = '8587fb43b56040e7b46da2ed52283f57'\n",
    "CSV_FILE = 'regno.csv'\n",
    "\n",
    "\n",
    "def hash_password(password):\n",
    "    return hashlib.sha256(password.encode()).hexdigest()\n",
    "\n",
    "\n",
    "def is_valid_email(email):\n",
    "    pattern = r'^[a-zA-Z0-9_.+-]+@[a-zA-Z0-9-]+\\.[a-zA-Z0-9-.]+$'\n",
    "    return re.match(pattern, email)\n",
    "\n",
    "\n",
    "def is_valid_password(password):\n",
    "    if len(password) >= 8 and any(char in '!@#$%^&*()_+' for char in password):\n",
    "        return True\n",
    "    return False\n",
    "\n",
    "\n",
    "def signup():\n",
    "    try:\n",
    "        email = input(\"Enter your email: \")\n",
    "        if not is_valid_email(email):\n",
    "            print(\"Invalid email format.\")\n",
    "            return\n",
    "\n",
    "        password = input(\"Enter your password (min 8 chars, 1 special char): \")\n",
    "        if not is_valid_password(password):\n",
    "            print(\"Password doesn't meet the requirements.\")\n",
    "            return\n",
    "\n",
    "        security_question = input(\"What is your favorite color (for password recovery)?: \")\n",
    "\n",
    "        hashed_password = hash_password(password)\n",
    "\n",
    "        with open(CSV_FILE, 'a', newline='') as file:\n",
    "\n",
    "            file.write(f\"{email},{hashed_password},{security_question}\\n\")\n",
    "        print(\"Signup successful! Please login.\")\n",
    "    except Exception as e:\n",
    "        print(f\"An error occurred during signup: {e}\")\n",
    "\n",
    "\n",
    "def login():\n",
    "    attempts = 0\n",
    "    try:\n",
    "        while attempts < 5:\n",
    "            email = input(\"Enter your email: \")\n",
    "            password = input(\"Enter your password: \")\n",
    "            hashed_password = hash_password(password)\n",
    "\n",
    "            if not is_valid_email(email):\n",
    "                print(\"Invalid email format.\")\n",
    "                attempts += 1\n",
    "                continue\n",
    "\n",
    "            with open(CSV_FILE, 'r') as file:\n",
    "                reader = csv.reader(file)\n",
    "                for row in reader:\n",
    "                    if row[0] == email and row[1] == hashed_password:\n",
    "                        print(\"Login successful!\")\n",
    "                        fetch_news()\n",
    "                        return\n",
    "                print(\"Invalid credentials.\")\n",
    "                attempts += 1\n",
    "\n",
    "        print(\"Too many failed attempts. Try again later.\")\n",
    "    except FileNotFoundError:\n",
    "        print(f\"Error: {CSV_FILE} not found.\")\n",
    "    except Exception as e:\n",
    "        print(f\"An error occurred during login: {e}\")\n",
    "\n",
    "\n",
    "def forgot_password():\n",
    "    try:\n",
    "        email = input(\"Enter your registered email: \")\n",
    "        with open(CSV_FILE, 'r') as file:\n",
    "            reader = csv.reader(file)\n",
    "            for row in reader:\n",
    "                if row[0] == email:\n",
    "                    security_answer = input(f\"Security question - Enter your Favourite color?: \")\n",
    "                    if security_answer == row[2]:\n",
    "                        new_password = input(\"Enter your new password: \")\n",
    "                        if is_valid_password(new_password):\n",
    "                            update_password(email, new_password)\n",
    "                            print(\"Password reset successful.\")\n",
    "                        else:\n",
    "                            print(\"Password doesn't meet the requirements.\")\n",
    "                    else:\n",
    "                        print(\"Security answer incorrect.\")\n",
    "                    return\n",
    "        print(\"Email not found.\")\n",
    "    except FileNotFoundError:\n",
    "        print(f\"Error: {CSV_FILE} not found.\")\n",
    "    except Exception as e:\n",
    "        print(f\"An error occurred during password reset: {e}\")\n",
    "\n",
    "\n",
    "def update_password(email, new_password):\n",
    "    try:\n",
    "        rows = []\n",
    "        hashed_password = hash_password(new_password)\n",
    "        with open(CSV_FILE, 'r') as file:\n",
    "            reader = csv.reader(file)\n",
    "            for row in reader:\n",
    "                if row[0] == email:\n",
    "                    row[1] = hashed_password\n",
    "                rows.append(row)\n",
    "\n",
    "        with open(CSV_FILE, 'w', newline='') as file:\n",
    "            writer = csv.writer(file)\n",
    "            writer.writerows(rows)\n",
    "            \n",
    "    except FileNotFoundError:\n",
    "        print(f\"Error: {CSV_FILE} not found.\")\n",
    "    except Exception as e:\n",
    "        print(f\"An error occurred while updating the password: {e}\")\n",
    "\n",
    "\n",
    "def fetch_news():\n",
    "    try:\n",
    "        keyword = input(\"Enter a keyword to search for news: \")\n",
    "        url = f'https://newsapi.org/v2/everything?q={keyword}&apiKey={NEWS_API_KEY}'\n",
    "        response = requests.get(url)\n",
    "\n",
    "        if response.status_code == 200:\n",
    "            articles = response.json().get('articles', [])[:5]\n",
    "            if articles:\n",
    "                print(f\"Top 5 news articles for '{keyword}':\")\n",
    "                for i, article in enumerate(articles, start=1):\n",
    "                    print(f\"{i}. {article['title']} (Source: {article['source']['name']})\")\n",
    "            else:\n",
    "                print(\"No news articles found for this keyword.\")\n",
    "        else:\n",
    "            print(\"Failed to fetch news. Please check your API key or internet connection.\")\n",
    "            \n",
    "    except requests.exceptions.RequestException as e:\n",
    "        print(f\"Network error occurred: {e}\")\n",
    "    except Exception as e:\n",
    "        print(f\"An error occurred while fetching news: {e}\")\n",
    "\n",
    "\n",
    "def main():\n",
    "    print(\"Welcome to the News App\")\n",
    "    while True:\n",
    "        print(\"\\n1. Signup\\n2. Login\\n3. Forgot Password\\n4. Exit\")\n",
    "        try:\n",
    "            choice = input(\"Choose an option: \")\n",
    "\n",
    "            if choice == '1':\n",
    "                signup()\n",
    "            elif choice == '2':\n",
    "                login()\n",
    "            elif choice == '3':\n",
    "                forgot_password()\n",
    "            elif choice == '4':\n",
    "                print(\"Goodbye!\")\n",
    "                break\n",
    "            else:\n",
    "                print(\"Invalid option. Please try again.\")\n",
    "        except Exception as e:\n",
    "            print(f\"An error occurred in the main menu: {e}\")\n",
    "\n",
    "if __name__ == \"__main__\":\n",
    "    main()\n"
   ]
  },
  {
   "cell_type": "code",
   "execution_count": null,
   "id": "264a4ef7-57a0-417a-8014-3339cd254fb7",
   "metadata": {},
   "outputs": [],
   "source": []
  }
 ],
 "metadata": {
  "kernelspec": {
   "display_name": "Python 3 (ipykernel)",
   "language": "python",
   "name": "python3"
  },
  "language_info": {
   "codemirror_mode": {
    "name": "ipython",
    "version": 3
   },
   "file_extension": ".py",
   "mimetype": "text/x-python",
   "name": "python",
   "nbconvert_exporter": "python",
   "pygments_lexer": "ipython3",
   "version": "3.12.4"
  }
 },
 "nbformat": 4,
 "nbformat_minor": 5
}
